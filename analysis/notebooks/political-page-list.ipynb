{
 "cells": [
  {
   "cell_type": "code",
   "execution_count": 36,
   "metadata": {},
   "outputs": [],
   "source": [
    "import json\n",
    "# import pandas as pd"
   ]
  },
  {
   "cell_type": "code",
   "execution_count": 34,
   "metadata": {},
   "outputs": [],
   "source": [
    "PATH_TO_JSON_LOCAL = '/Users/mlopatka/repos/gemeente-social/ron-political-parties-out-full.json'\n",
    "# provide local (absolute) path to JSON export here"
   ]
  },
  {
   "cell_type": "code",
   "execution_count": 35,
   "metadata": {},
   "outputs": [],
   "source": [
    "with open(PATH_TO_JSON_LOCAL) as local_json:    \n",
    "    payload = json.load(local_json)"
   ]
  },
  {
   "cell_type": "code",
   "execution_count": 32,
   "metadata": {},
   "outputs": [
    {
     "data": {
      "text/plain": [
       "dict_keys(['', 'https://www.50pluspartij.nl', 'https://www.50pluspartij.nl/europa', 'https://www.acreurope.eu', 'https://www.afd.de', 'https://www.afd.de/europawahl', 'https://www.agir-ladroiteconstructive.fr', 'https://www.alde.eu/en', 'https://www.alliancecentriste.fr', 'https://www.allianceparty.org', 'https://www.apfeurope.com', 'https://www.bewegingdenk.nl', 'https://www.brainwash.nl/dewijzestemmer#!/', 'https://www.campaigns.greenparty.org.uk', 'https://www.cap21.net', 'https://www.cda.nl', 'https://www.cda.nl/beschermenwaard', 'https://www.cdu.de', 'https://www.cdu.de/europa', 'https://www.christelijkestemwijzer.nu', 'https://www.christenunie.nl', 'https://www.ciudadanos-cs.org', 'https://www.coalicioncanaria.org', 'https://www.conservatives.com', 'https://www.csu.de', 'https://www.d66.nl', 'https://www.defiscalestemwijzer.nl', 'https://www.democrats.eu', 'https://www.die-linke.de/am-26-mai-die-linke-waehlen', 'https://www.die-linke.de/europawahl/start', 'https://www.die-partei.de', 'https://www.dieblauepartei.de', 'https://www.dierencoalitie.nl', 'https://www.e-f-a.org', 'https://www.e-f-a.org/2019-manifesto-european-free-alliance', 'https://www.eaj-pnv.eus', 'https://www.ecpm.info', 'https://www.ecpm.info/campaign', 'https://www.ecpm.nl', 'https://www.ecrgroup.eu', 'https://www.eelv.fr', 'https://www.efddgroup.eu', 'https://www.ehbildu.eus', 'https://www.enviedeurope.eu', 'https://www.eppgroup.eu', 'https://www.eppgroup.eu/what-we-stand-for/campaigns/eu-elections-2019', 'https://www.esquerra.cat/ca/inici', 'https://www.eu.kieskompas.nl/nl/#!/', 'https://www.eu.stemwijzer.nl/#intro', 'https://www.eurallfree.org', 'https://www.eurofractie.nl/nl', 'https://www.europa.mijnstem.nl/survey/45cbee7d488120/start#', 'https://www.europa.partijvoordedieren.nl/europese-parlementsverkiezingen-2019?pk_vid=1557301119207d27', 'https://www.facebook.com/salviniofficial/', 'https://www.fdp.de', 'https://www.forumvoordemocratie.nl', 'https://www.forzaitalia.it', 'https://www.forzaitalia.it/notizie/11852/26-maggio-2019', 'https://www.fratelli-italia.it', 'https://www.freiewaehler.eu', 'https://www.g-r-s.fr', 'https://www.gayvote.nl', 'https://www.generation-s.fr', 'https://www.greenpartyni.org', 'https://www.greens.scot', 'https://www.greens2019.eu', 'https://www.groenkieskompas.nl/nl/#/', 'https://www.groenlinks.nl', 'https://www.gruene.de', 'https://www.gruene.de/europawahl', 'https://www.guengl.eu', 'https://www.guengl.eu/european-parliament-election-2019', 'https://www.ilblogdellestelle.it', 'https://www.jeanneausecours.com', 'https://www.jongerenkieswijzer.nl', 'https://www.kerkinactie.nl/kiesadvies', 'https://www.kiescoach.libelle.nl', 'https://www.kieskompas.nl/nl/', 'https://www.kieswerkkompas.nl/nl/#/', 'https://www.labour.org.uk', 'https://www.lafranceinsoumise.fr', 'https://www.leave.eu', 'https://www.leganord.org', 'https://www.lemouvementradical.fr', 'https://www.lepartidegauche.fr', 'https://www.les-patriotes.fr', 'https://www.lesradicauxdegauche.fr', 'https://www.libdems.org.uk', 'https://www.libdems.org.uk/exit-brexit?splash=1', 'https://www.lkr.de', 'https://www.menleuropa.eu', 'https://www.mouvementdemocrate.fr', 'https://www.mouvementdemocrate.fr/actualites/campagne-europeenne-toutes-les-informations-sur-le-site-renaissance-image-2631-image', 'https://www.movimento5stelle.it', 'https://www.mvokieswijzer.nl', 'https://www.mydup.com', 'https://www.n-marche.fr', 'https://www.n-marche.fr/procuration', 'https://www.npd.de', 'https://www.oedp.de/index.php?id=1678', 'https://www.ondernemerskieskompas.nl/nl/#/', 'https://www.ondernemersstem.nl', 'https://www.pacma.es', 'https://www.parti-socialiste.fr', 'https://www.partijenwijzer.nl', 'https://www.partijvoordedieren.nl', 'https://www.partitdemocrata.cat', 'https://www.partitodemocratico.it', 'https://www.pbp.ie', 'https://www.pcf.fr', 'https://www.pes.eu/en/', 'https://www.piratenpartei.de', 'https://www.piueuropa.eu', 'https://www.plaid.cymru/splash1?splash=1', 'https://www.podemos.info', 'https://www.politiekesekswijzer.nl/user/login?destination=stellingen', 'https://www.pourleclimat.eu', 'https://www.pp.es', 'https://www.privacystemwijzer.nl', 'https://www.psoe.es', 'https://www.psoe.es/la-espana-que-quieres/voto-por-correo-desde-el-extranjero/', 'https://www.pvda.nl', 'https://www.pvda.nl/verkiezingen/verkiezingsstandpunten', 'https://www.pvv.nl', 'https://www.rassemblementnational.fr', 'https://www.republicains.fr', 'https://www.republicains.fr/elections_europeennes_2019', 'https://www.sdlp.ie', 'https://www.sdp.org.uk', 'https://www.sgp.nl', 'https://www.sinnfein.ie', 'https://www.snp.org', 'https://www.socialistsanddemocrats.eu', 'https://www.socialistsanddemocrats.eu/your-vote-2019', 'https://www.sp.nl', 'https://www.sp.nl/thema/nederland-en-europa?ref=spnl-home-secondary', 'https://www.spd.de', 'https://www.spd.de/europa-ist-die-antwort', 'https://www.stemwijsouders.nl/welkom', 'https://www.stemwijzer.nl', 'https://www.technischestemwijzer.nl', 'https://www.thebrexitparty.org', 'https://www.tuv.org.uk', 'https://www.ukip.org', 'https://www.uup.org', 'https://www.vbo.nl/kieswijzerwonen', 'https://www.verkiezingen.groenlinks.nl', 'https://www.verkiezingsprogramma.d66.nl/europa', 'https://www.voteforchange.uk', 'https://www.votematch.eu', 'https://www.voxespana.es', 'https://www.vvd.nl', 'https://www.vvd.nl/europeseverkiezingen', 'https://www.welkepartijpastbijmij.nl', 'https://www.zzpkieskompas.nl/nl/#/'])"
      ]
     },
     "execution_count": 32,
     "metadata": {},
     "output_type": "execute_result"
    }
   ],
   "source": [
    "payload.keys()"
   ]
  },
  {
   "cell_type": "code",
   "execution_count": null,
   "metadata": {},
   "outputs": [],
   "source": []
  }
 ],
 "metadata": {
  "kernelspec": {
   "display_name": "Python 3",
   "language": "python",
   "name": "python3"
  },
  "language_info": {
   "codemirror_mode": {
    "name": "ipython",
    "version": 3
   },
   "file_extension": ".py",
   "mimetype": "text/x-python",
   "name": "python",
   "nbconvert_exporter": "python",
   "pygments_lexer": "ipython3",
   "version": "3.7.2"
  }
 },
 "nbformat": 4,
 "nbformat_minor": 2
}
