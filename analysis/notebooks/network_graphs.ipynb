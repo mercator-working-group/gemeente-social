{
 "cells": [
  {
   "cell_type": "code",
   "execution_count": 15,
   "metadata": {
    "collapsed": true
   },
   "outputs": [],
   "source": [
    "import sqlite3\n",
    "import logging\n",
    "import pandas as pd\n",
    "from urllib.parse import urlparse\n",
    "from tld import get_tld, get_fld\n",
    "import networkx as nx"
   ]
  },
  {
   "cell_type": "code",
   "execution_count": 3,
   "metadata": {
    "collapsed": true
   },
   "outputs": [],
   "source": [
    "logger = logging.getLogger('analysis')\n",
    "logger.setLevel('INFO')"
   ]
  },
  {
   "cell_type": "code",
   "execution_count": 4,
   "metadata": {
    "collapsed": true
   },
   "outputs": [],
   "source": [
    "# Specify your local path to the sqlite db containing crawl data\n",
    "SQLITE_LOCAL_PATH = '/home/berra/Documents/Mercator/gemeente-social/data/crawl-data-copy.sqlite'\n",
    "\n",
    "# Specify the list for scoial media FLDs that we are interested in observing\n",
    "SM_FLDS = ['facebook', 'instagram', 'linkedin', 'google', 'youtube', 'twitter']\n",
    "#, 'whatsapp', 'snapchat', 'amazon', 'reddit']"
   ]
  },
  {
   "cell_type": "code",
   "execution_count": 5,
   "metadata": {
    "collapsed": true
   },
   "outputs": [],
   "source": [
    "# Read sqlite query results into a pandas DataFrame\n",
    "con = sqlite3.connect(SQLITE_LOCAL_PATH)\n",
    "cursor = con.cursor()\n",
    "\n",
    "# Parse javascript table from SQLite\n",
    "javascript = pd.read_sql_query(\"SELECT * from javascript\", con)\n",
    "\n",
    "# Parse SITE_VISITS table from SQLite\n",
    "site_visits = pd.read_sql_query(\"SELECT * from site_visits\", con)"
   ]
  },
  {
   "cell_type": "code",
   "execution_count": 6,
   "metadata": {
    "collapsed": true
   },
   "outputs": [],
   "source": [
    "# Helper function to get TLD+1 level of crawled link.\n",
    "def parse_tld_url(url):\n",
    "    return get_fld(url, fail_silently=True)\n",
    "\n",
    "# Helper function to match social media names in url FLDs\n",
    "def sm_match(url, sm_name):\n",
    "    if url is not None:\n",
    "        return sm_name in url\n",
    "    else:\n",
    "        return None"
   ]
  },
  {
   "cell_type": "code",
   "execution_count": 7,
   "metadata": {},
   "outputs": [
    {
     "data": {
      "text/html": [
       "<div>\n",
       "<style scoped>\n",
       "    .dataframe tbody tr th:only-of-type {\n",
       "        vertical-align: middle;\n",
       "    }\n",
       "\n",
       "    .dataframe tbody tr th {\n",
       "        vertical-align: top;\n",
       "    }\n",
       "\n",
       "    .dataframe thead tr th {\n",
       "        text-align: left;\n",
       "    }\n",
       "\n",
       "    .dataframe thead tr:last-of-type th {\n",
       "        text-align: right;\n",
       "    }\n",
       "</style>\n",
       "<table border=\"1\" class=\"dataframe\">\n",
       "  <thead>\n",
       "    <tr>\n",
       "      <th></th>\n",
       "      <th>is_facebook</th>\n",
       "      <th>is_instagram</th>\n",
       "      <th>is_linkedin</th>\n",
       "      <th>is_google</th>\n",
       "      <th>is_youtube</th>\n",
       "      <th>is_twitter</th>\n",
       "    </tr>\n",
       "    <tr>\n",
       "      <th></th>\n",
       "      <th>sum</th>\n",
       "      <th>sum</th>\n",
       "      <th>sum</th>\n",
       "      <th>sum</th>\n",
       "      <th>sum</th>\n",
       "      <th>sum</th>\n",
       "    </tr>\n",
       "    <tr>\n",
       "      <th>parent_url</th>\n",
       "      <th></th>\n",
       "      <th></th>\n",
       "      <th></th>\n",
       "      <th></th>\n",
       "      <th></th>\n",
       "      <th></th>\n",
       "    </tr>\n",
       "  </thead>\n",
       "  <tbody>\n",
       "    <tr>\n",
       "      <th>http://gemeente.groningen.nl</th>\n",
       "      <td>True</td>\n",
       "      <td>True</td>\n",
       "      <td>False</td>\n",
       "      <td>False</td>\n",
       "      <td>False</td>\n",
       "      <td>True</td>\n",
       "    </tr>\n",
       "    <tr>\n",
       "      <th>http://www.aaenhunze.nl</th>\n",
       "      <td>True</td>\n",
       "      <td>False</td>\n",
       "      <td>False</td>\n",
       "      <td>False</td>\n",
       "      <td>True</td>\n",
       "      <td>True</td>\n",
       "    </tr>\n",
       "    <tr>\n",
       "      <th>http://www.aalsmeer.nl</th>\n",
       "      <td>True</td>\n",
       "      <td>False</td>\n",
       "      <td>True</td>\n",
       "      <td>False</td>\n",
       "      <td>True</td>\n",
       "      <td>True</td>\n",
       "    </tr>\n",
       "    <tr>\n",
       "      <th>http://www.aalten.nl</th>\n",
       "      <td>True</td>\n",
       "      <td>False</td>\n",
       "      <td>True</td>\n",
       "      <td>False</td>\n",
       "      <td>False</td>\n",
       "      <td>True</td>\n",
       "    </tr>\n",
       "    <tr>\n",
       "      <th>http://www.achtkarspelen.nl</th>\n",
       "      <td>True</td>\n",
       "      <td>False</td>\n",
       "      <td>False</td>\n",
       "      <td>False</td>\n",
       "      <td>False</td>\n",
       "      <td>True</td>\n",
       "    </tr>\n",
       "  </tbody>\n",
       "</table>\n",
       "</div>"
      ],
      "text/plain": [
       "                              is_facebook is_instagram is_linkedin is_google  \\\n",
       "                                      sum          sum         sum       sum   \n",
       "parent_url                                                                     \n",
       "http://gemeente.groningen.nl         True         True       False     False   \n",
       "http://www.aaenhunze.nl              True        False       False     False   \n",
       "http://www.aalsmeer.nl               True        False        True     False   \n",
       "http://www.aalten.nl                 True        False        True     False   \n",
       "http://www.achtkarspelen.nl          True        False       False     False   \n",
       "\n",
       "                              is_youtube is_twitter  \n",
       "                                     sum        sum  \n",
       "parent_url                                           \n",
       "http://gemeente.groningen.nl       False       True  \n",
       "http://www.aaenhunze.nl             True       True  \n",
       "http://www.aalsmeer.nl              True       True  \n",
       "http://www.aalten.nl               False       True  \n",
       "http://www.achtkarspelen.nl        False       True  "
      ]
     },
     "execution_count": 7,
     "metadata": {},
     "output_type": "execute_result"
    }
   ],
   "source": [
    "# Extract the First level domain for page links at the top level;\n",
    "# pages linked to via a hyperlink from the first visible page when visiting a gemeente website\n",
    "site_visits['tld_url'] = site_visits['site_url'].apply(parse_tld_url)\n",
    "\n",
    "# Extract the top level domain from the keyed gemeente website\n",
    "site_visits['tld_parent'] = site_visits['parent_url'].apply(parse_tld_url)\n",
    "\n",
    "# Create a boolean column for each social media site fo interest.\n",
    "for i in SM_FLDS:\n",
    "    site_visits[('is_' + i)] = site_visits['tld_url'].apply(sm_match, args=(i,))\n",
    "    \n",
    "# Return social media aggregates per gemeente per social media platform.\n",
    "social_media_pressence = site_visits[['parent_url']+ [('is_' + i) for i in SM_FLDS]]\\\n",
    "    .groupby(['parent_url']).agg(['sum'])\\\n",
    "    .applymap(lambda x: True if x >= 1 else False)\n",
    "social_media_pressence.head()"
   ]
  },
  {
   "cell_type": "code",
   "execution_count": 172,
   "metadata": {
    "collapsed": true
   },
   "outputs": [],
   "source": [
    "### Generate Gephi network file from social_media_pressence (gemeente to social media)\n",
    "\n",
    "gem2sm = site_visits[['parent_url']+ [('is_' + i) for i in SM_FLDS]]\n",
    "\n",
    "gem2sm_graph = nx.Graph()\n",
    "\n",
    "#Adding nodes from list of gemeente and social media\n",
    "gem2sm_graph.add_nodes_from(social_media_pressence.index)\n",
    "gem2sm_graph.add_nodes_from(SM_FLDS)\n",
    "\n",
    "#Adding edges if social media is linked in gemeente website\n",
    "for sm in SM_FLDS:\n",
    "    for gem in gem2sm.parent_url:\n",
    "        n_is_sm = 0\n",
    "        for is_sm in gem2sm[gem2sm.parent_url==gem]['is_'+sm].values:\n",
    "            if is_sm is True: n_is_sm+=1 #do more n_is_sm mean more links or...?\n",
    "            gem2sm_graph.add_edge(sm,gem.strip('http://www.'),weight=n_is_sm)\n",
    "        \n",
    "        "
   ]
  },
  {
   "cell_type": "code",
   "execution_count": 174,
   "metadata": {
    "collapsed": true
   },
   "outputs": [],
   "source": [
    "#Save file in .gexf format for Gephi\n",
    "nx.write_gexf(gem2sm_graph, '/home/berra/Documents/Mercator/gemeente-social/analysis/gem2sm.gexf')"
   ]
  },
  {
   "cell_type": "code",
   "execution_count": null,
   "metadata": {
    "collapsed": true
   },
   "outputs": [],
   "source": []
  }
 ],
 "metadata": {
  "kernelspec": {
   "display_name": "Python 3",
   "language": "python",
   "name": "python3"
  },
  "language_info": {
   "codemirror_mode": {
    "name": "ipython",
    "version": 3
   },
   "file_extension": ".py",
   "mimetype": "text/x-python",
   "name": "python",
   "nbconvert_exporter": "python",
   "pygments_lexer": "ipython3",
   "version": "3.6.3"
  }
 },
 "nbformat": 4,
 "nbformat_minor": 2
}
